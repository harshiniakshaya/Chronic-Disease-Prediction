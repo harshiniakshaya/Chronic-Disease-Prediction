{
 "cells": [
  {
   "cell_type": "code",
   "execution_count": 1,
   "id": "daeb5ac5",
   "metadata": {},
   "outputs": [],
   "source": [
    "import pandas as pd\n",
    "from sklearn.model_selection import train_test_split\n",
    "from sklearn.preprocessing import StandardScaler\n",
    "from sklearn.ensemble import RandomForestClassifier\n",
    "from sklearn.metrics import classification_report, accuracy_score\n",
    "import joblib"
   ]
  },
  {
   "cell_type": "code",
   "execution_count": 2,
   "id": "9bd074d0",
   "metadata": {},
   "outputs": [
    {
     "name": "stdout",
     "output_type": "stream",
     "text": [
      "Loading lifestyle dataset...\n",
      "\n",
      "--- Dataset Preview ---\n",
      "   age        bmi  servings_veg_fruit_daily  servings_processed_food_weekly  \\\n",
      "0   42  38.172926                         5                               3   \n",
      "1   51  34.879950                         0                              14   \n",
      "2   45  34.922600                         3                              12   \n",
      "3   49  21.266598                         1                              11   \n",
      "4   42  27.170532                         1                              12   \n",
      "\n",
      "   hours_exercise_weekly  hours_sleep_daily  alcohol_units_weekly  is_smoker  \\\n",
      "0                     13           8.475477                    23          0   \n",
      "1                      0           6.923373                    14          0   \n",
      "2                      8           6.884002                    21          1   \n",
      "3                     14           6.416330                    14          0   \n",
      "4                      7           5.452476                    27          0   \n",
      "\n",
      "   heart_disease_risk  liver_disease_risk  kidney_disease_risk  \n",
      "0                   0                   1                    0  \n",
      "1                   1                   0                    1  \n",
      "2                   1                   1                    0  \n",
      "3                   0                   0                    0  \n",
      "4                   0                   0                    0  \n"
     ]
    }
   ],
   "source": [
    "print(\"Loading lifestyle dataset...\")\n",
    "df = pd.read_csv('../data/lifestyle_data.csv')\n",
    "\n",
    "print(\"\\n--- Dataset Preview ---\")\n",
    "print(df.head())"
   ]
  },
  {
   "cell_type": "code",
   "execution_count": 3,
   "id": "2e549a99",
   "metadata": {},
   "outputs": [
    {
     "name": "stdout",
     "output_type": "stream",
     "text": [
      "\n",
      "--- Features (X) ---\n",
      "['age', 'bmi', 'servings_veg_fruit_daily', 'servings_processed_food_weekly', 'hours_exercise_weekly', 'hours_sleep_daily', 'alcohol_units_weekly', 'is_smoker']\n",
      "\n",
      "--- Targets (y) ---\n",
      "['heart_disease_risk', 'liver_disease_risk', 'kidney_disease_risk']\n"
     ]
    }
   ],
   "source": [
    "X = df.drop(['heart_disease_risk', 'liver_disease_risk', 'kidney_disease_risk'], axis=1)\n",
    "y = df[['heart_disease_risk', 'liver_disease_risk', 'kidney_disease_risk']]\n",
    "\n",
    "print(\"\\n--- Features (X) ---\")\n",
    "print(X.columns.tolist())\n",
    "print(\"\\n--- Targets (y) ---\")\n",
    "print(y.columns.tolist())"
   ]
  },
  {
   "cell_type": "code",
   "execution_count": 4,
   "id": "884f4d85",
   "metadata": {},
   "outputs": [],
   "source": [
    "X_train, X_test, y_train, y_test = train_test_split(X, y, test_size=0.2, random_state=42)"
   ]
  },
  {
   "cell_type": "code",
   "execution_count": 5,
   "id": "ad288adf",
   "metadata": {},
   "outputs": [],
   "source": [
    "scaler = StandardScaler()\n",
    "X_train_scaled = scaler.fit_transform(X_train)\n",
    "X_test_scaled = scaler.transform(X_test)"
   ]
  },
  {
   "cell_type": "code",
   "execution_count": 6,
   "id": "22351ca9",
   "metadata": {},
   "outputs": [
    {
     "name": "stdout",
     "output_type": "stream",
     "text": [
      "\n",
      "--- Training Lifestyle Model ---\n",
      "Training complete!\n"
     ]
    }
   ],
   "source": [
    "print(\"\\n--- Training Lifestyle Model ---\")\n",
    "model = RandomForestClassifier(n_estimators=100, random_state=42)\n",
    "model.fit(X_train_scaled, y_train)\n",
    "print(\"Training complete!\")"
   ]
  },
  {
   "cell_type": "code",
   "execution_count": 7,
   "id": "273bc263",
   "metadata": {},
   "outputs": [
    {
     "name": "stdout",
     "output_type": "stream",
     "text": [
      "\n",
      "Overall Exact Match Accuracy: 64.75%\n",
      "\n",
      "--- Classification Report for Heart Disease Risk ---\n",
      "              precision    recall  f1-score   support\n",
      "\n",
      "    Low Risk       0.92      0.92      0.92       306\n",
      "   High Risk       0.73      0.73      0.73        94\n",
      "\n",
      "    accuracy                           0.88       400\n",
      "   macro avg       0.83      0.83      0.83       400\n",
      "weighted avg       0.88      0.88      0.88       400\n",
      "\n",
      "--- Classification Report for Liver Disease Risk ---\n",
      "              precision    recall  f1-score   support\n",
      "\n",
      "    Low Risk       0.88      0.93      0.90       302\n",
      "   High Risk       0.73      0.61      0.67        98\n",
      "\n",
      "    accuracy                           0.85       400\n",
      "   macro avg       0.81      0.77      0.78       400\n",
      "weighted avg       0.84      0.85      0.85       400\n",
      "\n",
      "--- Classification Report for Kidney Disease Risk ---\n",
      "              precision    recall  f1-score   support\n",
      "\n",
      "    Low Risk       0.86      0.92      0.89       302\n",
      "   High Risk       0.69      0.53      0.60        98\n",
      "\n",
      "    accuracy                           0.83       400\n",
      "   macro avg       0.78      0.73      0.75       400\n",
      "weighted avg       0.82      0.83      0.82       400\n",
      "\n"
     ]
    }
   ],
   "source": [
    "y_pred = model.predict(X_test_scaled)\n",
    "accuracy = accuracy_score(y_test, y_pred)\n",
    "print(f\"\\nOverall Exact Match Accuracy: {accuracy * 100:.2f}%\\n\")\n",
    "\n",
    "print(\"--- Classification Report for Heart Disease Risk ---\")\n",
    "print(classification_report(y_test['heart_disease_risk'], y_pred[:, 0], target_names=['Low Risk', 'High Risk']))\n",
    "\n",
    "print(\"--- Classification Report for Liver Disease Risk ---\")\n",
    "print(classification_report(y_test['liver_disease_risk'], y_pred[:, 1], target_names=['Low Risk', 'High Risk']))\n",
    "\n",
    "print(\"--- Classification Report for Kidney Disease Risk ---\")\n",
    "print(classification_report(y_test['kidney_disease_risk'], y_pred[:, 2], target_names=['Low Risk', 'High Risk']))"
   ]
  },
  {
   "cell_type": "code",
   "execution_count": 8,
   "id": "a35470ab",
   "metadata": {},
   "outputs": [
    {
     "name": "stdout",
     "output_type": "stream",
     "text": [
      "\n",
      "Lifestyle model saved to: ../saved_models/risk_model.joblib\n",
      "Lifestyle scaler saved to: ../saved_models/risk_scaler.joblib\n",
      "\n",
      "Lifestyle model building is complete!\n"
     ]
    }
   ],
   "source": [
    "model_path = '../saved_models/risk_model.joblib'\n",
    "scaler_path = '../saved_models/risk_scaler.joblib'\n",
    "\n",
    "joblib.dump(model, model_path)\n",
    "joblib.dump(scaler, scaler_path)\n",
    "\n",
    "print(f\"\\nLifestyle model saved to: {model_path}\")\n",
    "print(f\"Lifestyle scaler saved to: {scaler_path}\")\n",
    "print(\"\\nLifestyle model building is complete!\")"
   ]
  }
 ],
 "metadata": {
  "kernelspec": {
   "display_name": "Python 3",
   "language": "python",
   "name": "python3"
  },
  "language_info": {
   "codemirror_mode": {
    "name": "ipython",
    "version": 3
   },
   "file_extension": ".py",
   "mimetype": "text/x-python",
   "name": "python",
   "nbconvert_exporter": "python",
   "pygments_lexer": "ipython3",
   "version": "3.11.4"
  }
 },
 "nbformat": 4,
 "nbformat_minor": 5
}
