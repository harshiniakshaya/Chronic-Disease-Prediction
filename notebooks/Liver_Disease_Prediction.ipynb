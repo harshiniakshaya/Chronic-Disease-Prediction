{
 "cells": [
  {
   "cell_type": "code",
   "execution_count": 1,
   "id": "51380ed7",
   "metadata": {},
   "outputs": [],
   "source": [
    "# STEP 1: IMPORT LIBRARIES\n",
    "import pandas as pd\n",
    "import numpy as np\n",
    "from sklearn.model_selection import train_test_split\n",
    "from sklearn.preprocessing import StandardScaler\n",
    "from sklearn.ensemble import RandomForestClassifier\n",
    "from sklearn.metrics import accuracy_score, classification_report, confusion_matrix\n",
    "import joblib"
   ]
  },
  {
   "cell_type": "code",
   "execution_count": 4,
   "id": "f2008454",
   "metadata": {},
   "outputs": [
    {
     "name": "stdout",
     "output_type": "stream",
     "text": [
      "\n",
      "--- First 5 rows of the liver dataset with clean columns ---\n",
      "    Age  Gender  Total_Bilirubin  Direct_Bilirubin  Alkaline_Phosphotase  \\\n",
      "0  65.0  Female              0.7               0.1                 187.0   \n",
      "1  62.0    Male             10.9               5.5                 699.0   \n",
      "2  62.0    Male              7.3               4.1                 490.0   \n",
      "3  58.0    Male              1.0               0.4                 182.0   \n",
      "4  72.0    Male              3.9               2.0                 195.0   \n",
      "\n",
      "   Alamine_Aminotransferase  Aspartate_Aminotransferase  Total_Protiens  \\\n",
      "0                      16.0                        18.0             6.8   \n",
      "1                      64.0                       100.0             7.5   \n",
      "2                      60.0                        68.0             7.0   \n",
      "3                      14.0                        20.0             6.8   \n",
      "4                      27.0                        59.0             7.3   \n",
      "\n",
      "   Albumin  Albumin_and_Globulin_Ratio  Dataset  \n",
      "0      3.3                        0.90        1  \n",
      "1      3.2                        0.74        1  \n",
      "2      3.3                        0.89        1  \n",
      "3      3.4                        1.00        1  \n",
      "4      2.4                        0.40        1  \n",
      "\n",
      "--- Missing Values Before Cleaning ---\n",
      "Age                             2\n",
      "Gender                        902\n",
      "Total_Bilirubin               648\n",
      "Direct_Bilirubin              561\n",
      "Alkaline_Phosphotase          796\n",
      "Alamine_Aminotransferase      538\n",
      "Aspartate_Aminotransferase    462\n",
      "Total_Protiens                463\n",
      "Albumin                       494\n",
      "Albumin_and_Globulin_Ratio    559\n",
      "Dataset                         0\n",
      "dtype: int64\n"
     ]
    }
   ],
   "source": [
    "# STEP 2: LOAD AND INSPECT THE LIVER DATA\n",
    "file_path = '../data/liver_disease.csv'\n",
    "df = pd.read_csv(file_path, encoding='ISO-8859-1')\n",
    "\n",
    "clean_columns = [\n",
    "    'Age', 'Gender', 'Total_Bilirubin', 'Direct_Bilirubin',\n",
    "    'Alkaline_Phosphotase', 'Alamine_Aminotransferase', 'Aspartate_Aminotransferase',\n",
    "    'Total_Protiens', 'Albumin', 'Albumin_and_Globulin_Ratio', 'Dataset'\n",
    "]\n",
    "df.columns = clean_columns\n",
    "\n",
    "print(\"\\n--- First 5 rows of the liver dataset with clean columns ---\")\n",
    "print(df.head())\n",
    "\n",
    "print(\"\\n--- Missing Values Before Cleaning ---\")\n",
    "print(df.isnull().sum())"
   ]
  },
  {
   "cell_type": "code",
   "execution_count": 5,
   "id": "24731280",
   "metadata": {},
   "outputs": [
    {
     "name": "stdout",
     "output_type": "stream",
     "text": [
      "\n",
      "--- Data after cleaning and preprocessing ---\n",
      "    Age  Total_Bilirubin  Direct_Bilirubin  Alkaline_Phosphotase  \\\n",
      "0  65.0              0.7               0.1                 187.0   \n",
      "1  62.0             10.9               5.5                 699.0   \n",
      "2  62.0              7.3               4.1                 490.0   \n",
      "3  58.0              1.0               0.4                 182.0   \n",
      "4  72.0              3.9               2.0                 195.0   \n",
      "\n",
      "   Alamine_Aminotransferase  Aspartate_Aminotransferase  Total_Protiens  \\\n",
      "0                      16.0                        18.0             6.8   \n",
      "1                      64.0                       100.0             7.5   \n",
      "2                      60.0                        68.0             7.0   \n",
      "3                      14.0                        20.0             6.8   \n",
      "4                      27.0                        59.0             7.3   \n",
      "\n",
      "   Albumin  Albumin_and_Globulin_Ratio  Dataset  Gender_Male  \n",
      "0      3.3                        0.90        1        False  \n",
      "1      3.2                        0.74        1         True  \n",
      "2      3.3                        0.89        1         True  \n",
      "3      3.4                        1.00        1         True  \n",
      "4      2.4                        0.40        1         True  \n",
      "\n",
      "Total missing values after cleaning: 3964\n"
     ]
    }
   ],
   "source": [
    "# STEP 3: DATA CLEANING AND PREPROCESSING\n",
    "df = pd.get_dummies(df, columns=['Gender'], drop_first=True, prefix='Gender')\n",
    "df['Dataset'] = df['Dataset'].map({1: 1, 2: 0})\n",
    "df['Albumin_and_Globulin_Ratio'].fillna(df['Albumin_and_Globulin_Ratio'].median(), inplace=True)\n",
    "\n",
    "print(\"\\n--- Data after cleaning and preprocessing ---\")\n",
    "print(df.head())\n",
    "print(f\"\\nTotal missing values after cleaning: {df.isnull().sum().sum()}\")\n"
   ]
  },
  {
   "cell_type": "code",
   "execution_count": 6,
   "id": "cd7f1ee2",
   "metadata": {},
   "outputs": [],
   "source": [
    "# STEP 4: SEPARATE FEATURES (X) AND TARGET (y)\n",
    "X = df.drop('Dataset', axis=1)\n",
    "y = df['Dataset']"
   ]
  },
  {
   "cell_type": "code",
   "execution_count": 7,
   "id": "db898003",
   "metadata": {},
   "outputs": [],
   "source": [
    "# STEP 5: SPLIT DATA INTO TRAINING AND TESTING SETS\n",
    "X_train, X_test, y_train, y_test = train_test_split(X, y, test_size=0.2, random_state=42, stratify=y)"
   ]
  },
  {
   "cell_type": "code",
   "execution_count": 8,
   "id": "f214eb93",
   "metadata": {},
   "outputs": [],
   "source": [
    "# STEP 6: FEATURE SCALING\n",
    "scaler = StandardScaler()\n",
    "X_train_scaled = scaler.fit_transform(X_train)\n",
    "X_test_scaled = scaler.transform(X_test)"
   ]
  },
  {
   "cell_type": "code",
   "execution_count": 9,
   "id": "35c83d70",
   "metadata": {},
   "outputs": [
    {
     "name": "stdout",
     "output_type": "stream",
     "text": [
      "\n",
      "--- Training the liver model... ---\n",
      "Model training complete!\n"
     ]
    }
   ],
   "source": [
    "# STEP 7: TRAIN THE MODEL\n",
    "print(\"\\n--- Training the liver model... ---\")\n",
    "model = RandomForestClassifier(n_estimators=100, random_state=42)\n",
    "model.fit(X_train_scaled, y_train)\n",
    "print(\"Model training complete!\")"
   ]
  },
  {
   "cell_type": "code",
   "execution_count": 10,
   "id": "39a02a51",
   "metadata": {},
   "outputs": [
    {
     "name": "stdout",
     "output_type": "stream",
     "text": [
      "\n",
      "--- Liver Model Performance ---\n",
      "Accuracy: 99.79%\n",
      "\n",
      "Classification Report:\n",
      "               precision    recall  f1-score   support\n",
      "\n",
      "           0       1.00      0.99      1.00      1755\n",
      "           1       1.00      1.00      1.00      4384\n",
      "\n",
      "    accuracy                           1.00      6139\n",
      "   macro avg       1.00      1.00      1.00      6139\n",
      "weighted avg       1.00      1.00      1.00      6139\n",
      "\n"
     ]
    }
   ],
   "source": [
    "# STEP 8: EVALUATE THE MODEL\n",
    "y_pred = model.predict(X_test_scaled)\n",
    "accuracy = accuracy_score(y_test, y_pred)\n",
    "\n",
    "print(f\"\\n--- Liver Model Performance ---\")\n",
    "print(f\"Accuracy: {accuracy * 100:.2f}%\")\n",
    "print(\"\\nClassification Report:\\n\", classification_report(y_test, y_pred))"
   ]
  },
  {
   "cell_type": "code",
   "execution_count": 11,
   "id": "52617428",
   "metadata": {},
   "outputs": [
    {
     "name": "stdout",
     "output_type": "stream",
     "text": [
      "\n",
      "Liver model saved to: ../saved_models/liver_model.joblib\n",
      "Liver scaler saved to: ../saved_models/liver_scaler.joblib\n"
     ]
    }
   ],
   "source": [
    "# STEP 9: SAVE THE NEW MODEL AND SCALER\n",
    "model_path = '../saved_models/liver_model.joblib'\n",
    "scaler_path = '../saved_models/liver_scaler.joblib'\n",
    "\n",
    "joblib.dump(model, model_path)\n",
    "joblib.dump(scaler, scaler_path)\n",
    "\n",
    "print(f\"\\nLiver model saved to: {model_path}\")\n",
    "print(f\"Liver scaler saved to: {scaler_path}\")"
   ]
  }
 ],
 "metadata": {
  "kernelspec": {
   "display_name": "Python 3",
   "language": "python",
   "name": "python3"
  },
  "language_info": {
   "codemirror_mode": {
    "name": "ipython",
    "version": 3
   },
   "file_extension": ".py",
   "mimetype": "text/x-python",
   "name": "python",
   "nbconvert_exporter": "python",
   "pygments_lexer": "ipython3",
   "version": "3.11.4"
  }
 },
 "nbformat": 4,
 "nbformat_minor": 5
}
